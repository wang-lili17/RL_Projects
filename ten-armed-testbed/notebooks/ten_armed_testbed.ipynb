{
 "cells": [
  {
   "cell_type": "markdown",
   "source": [
    "# 10-armed Testbed"
   ],
   "metadata": {
    "collapsed": false
   },
   "id": "cada6500ddd403c4"
  },
  {
   "cell_type": "code",
   "id": "initial_id",
   "metadata": {
    "collapsed": true,
    "ExecuteTime": {
     "end_time": "2025-03-10T09:40:45.062008Z",
     "start_time": "2025-03-10T09:40:44.484256Z"
    }
   },
   "source": [
    "import numpy as np\n",
    "from tqdm import trange\n",
    "import matplotlib\n",
    "import matplotlib.pyplot as plt\n",
    "\n",
    "from src.bandit import Bandit\n",
    "\n",
    "matplotlib.use('Agg')"
   ],
   "outputs": [],
   "execution_count": 1
  },
  {
   "cell_type": "code",
   "source": [
    "def simulate(runs, times, bandits):\n",
    "    # region Summary\n",
    "    \"\"\"\n",
    "    For any learning method, we can measure its performance and behavior as it improves with experience over 1000 time steps\n",
    "    when applied to 1 of the bandit problems. This makes up 1 run. Repeating this for 2000 independent runs, each with a different\n",
    "    bandit problem, we obtained measures of the learning algorithm’s average behavior.\n",
    "    :param runs: Number of runs\n",
    "    :param times: Number of times\n",
    "    :param bandits: Bandit problems\n",
    "    :return: Optimal action count mean and reward mean\n",
    "    \"\"\"\n",
    "    # endregion Summary\n",
    "\n",
    "    # region Body\n",
    "\n",
    "    # Prepare a matrix filled with 0s for rewards\n",
    "    rewards = np.zeros((len(bandits), runs, times))\n",
    "\n",
    "    # Prepare a matrix filled with 0s for optimal action counts that has the same shape as rewards matrix\n",
    "    optimal_action_counts = np.zeros(rewards.shape)\n",
    "\n",
    "    # For every bandit\n",
    "    for i, bandit in enumerate(bandits):\n",
    "        # for every run\n",
    "        for run in trange(runs):\n",
    "            # initialize bandit\n",
    "            bandit.initialize()\n",
    "\n",
    "            # for every time step\n",
    "            for time in range(times):\n",
    "                # select an action\n",
    "                action = bandit.act()\n",
    "\n",
    "                # get the reward\n",
    "                rewards[i, run, time] = bandit.step(action)\n",
    "\n",
    "                # if the selected action is optimal for bandit\n",
    "                if action == bandit.optimal_action:\n",
    "                    # change the corresponding 0 in the optimal action counts matrix to 1\n",
    "                    optimal_action_counts[i, run, time] = 1\n",
    "\n",
    "    return optimal_action_counts.mean(axis=1), rewards.mean(axis=1)\n",
    "\n",
    "    # endregion Body"
   ],
   "metadata": {
    "collapsed": false,
    "ExecuteTime": {
     "end_time": "2025-03-10T09:40:45.081701Z",
     "start_time": "2025-03-10T09:40:45.073229Z"
    }
   },
   "id": "be09fd89ebd40d84",
   "outputs": [],
   "execution_count": 2
  },
  {
   "cell_type": "markdown",
   "source": [
    "## 1. Reward Distribution"
   ],
   "metadata": {
    "collapsed": false
   },
   "id": "4088366f60e51478"
  },
  {
   "cell_type": "code",
   "source": [
    "# Plot an example reward distribution\n",
    "plt.violinplot(dataset=np.random.randn(200, 10) + np.random.randn(10))\n",
    "plt.title(\"Figure 2.1\")\n",
    "plt.xlabel(\"Action\")\n",
    "plt.ylabel(\"Reward distribution\")\n",
    "plt.savefig(\"../generated_images/figure_2_1.png\")\n",
    "plt.close()"
   ],
   "metadata": {
    "collapsed": false,
    "ExecuteTime": {
     "end_time": "2025-03-02T12:24:58.969232Z",
     "start_time": "2025-03-02T12:24:58.865319Z"
    }
   },
   "id": "8ed1daafa4064440",
   "outputs": [],
   "execution_count": 5
  },
  {
   "cell_type": "markdown",
   "source": [
    "## 2. Greedy Action Selection VS ε-greedy Action Selection"
   ],
   "metadata": {
    "collapsed": false
   },
   "id": "ef67eb7574c5d2b1"
  },
  {
   "cell_type": "code",
   "source": [
    "# Create a list of epsilons with 0, 0.1 and 0.01 values\n",
    "epsilons = [0, 0.1, 0.01]\n",
    "\n",
    "# Create a list of bandits (1 bandit for every epsilon) where every bandit uses sample-average method\n",
    "bandits = [Bandit(epsilon=epsilon, use_sample_averages=True) for epsilon in epsilons]"
   ],
   "metadata": {
    "collapsed": false,
    "ExecuteTime": {
     "end_time": "2025-03-02T12:25:03.622541Z",
     "start_time": "2025-03-02T12:25:03.619742Z"
    }
   },
   "id": "6a180bc790c31e65",
   "outputs": [],
   "execution_count": 6
  },
  {
   "cell_type": "code",
   "source": [
    "# Define number of runs\n",
    "runs = 2000\n",
    "\n",
    "# Define number of times\n",
    "times = 1000\n",
    "\n",
    "# Simulate optimal action counts and rewards\n",
    "optimal_action_counts, rewards = simulate(runs, times, bandits)"
   ],
   "metadata": {
    "collapsed": false,
    "ExecuteTime": {
     "end_time": "2025-03-02T12:26:40.135993Z",
     "start_time": "2025-03-02T12:25:06.917643Z"
    }
   },
   "id": "683805477a8d4606",
   "outputs": [
    {
     "name": "stderr",
     "output_type": "stream",
     "text": [
      "100%|██████████| 2000/2000 [00:31<00:00, 63.72it/s]\n",
      "100%|██████████| 2000/2000 [00:30<00:00, 66.09it/s]\n",
      "100%|██████████| 2000/2000 [00:31<00:00, 63.41it/s]\n"
     ]
    }
   ],
   "execution_count": 7
  },
  {
   "cell_type": "code",
   "source": [
    "# Plotting\n",
    "plt.figure(figsize=(10, 20))"
   ],
   "metadata": {
    "collapsed": false,
    "ExecuteTime": {
     "end_time": "2025-03-02T12:26:46.606625Z",
     "start_time": "2025-03-02T12:26:46.600869Z"
    }
   },
   "id": "e1a86ca5f4aefa2",
   "outputs": [
    {
     "data": {
      "text/plain": [
       "<Figure size 1000x2000 with 0 Axes>"
      ]
     },
     "execution_count": 8,
     "metadata": {},
     "output_type": "execute_result"
    }
   ],
   "execution_count": 8
  },
  {
   "cell_type": "code",
   "source": [
    "plt.subplot(2, 1, 1)\n",
    "for epsilon, rewards in zip(epsilons, rewards):\n",
    "    plt.plot(rewards, label=\"$\\epsilon = %.02f$\" % epsilon)\n",
    "plt.title(\"Figure 2.2\")\n",
    "plt.xlabel(\"Steps\")\n",
    "plt.ylabel(\"Average reward\")\n",
    "plt.legend()"
   ],
   "metadata": {
    "collapsed": false,
    "ExecuteTime": {
     "end_time": "2025-03-02T12:26:49.236524Z",
     "start_time": "2025-03-02T12:26:49.224383Z"
    }
   },
   "id": "5536109f4e591e72",
   "outputs": [
    {
     "name": "stderr",
     "output_type": "stream",
     "text": [
      "<>:3: SyntaxWarning: invalid escape sequence '\\e'\n",
      "<>:3: SyntaxWarning: invalid escape sequence '\\e'\n",
      "C:\\Users\\lilit\\AppData\\Local\\Temp\\ipykernel_12412\\3118276454.py:3: SyntaxWarning: invalid escape sequence '\\e'\n",
      "  plt.plot(rewards, label=\"$\\epsilon = %.02f$\" % epsilon)\n"
     ]
    },
    {
     "data": {
      "text/plain": [
       "<matplotlib.legend.Legend at 0x210ff891be0>"
      ]
     },
     "execution_count": 9,
     "metadata": {},
     "output_type": "execute_result"
    }
   ],
   "execution_count": 9
  },
  {
   "cell_type": "code",
   "source": [
    "plt.subplot(2, 1, 2)\n",
    "for epsilon, counts in zip(epsilons, optimal_action_counts):\n",
    "    plt.plot(counts, label=\"$\\epsilon = %.02f$\" % epsilon)\n",
    "plt.xlabel(\"Steps\")\n",
    "plt.ylabel(\"% Optimal action\")\n",
    "plt.legend()"
   ],
   "metadata": {
    "collapsed": false,
    "ExecuteTime": {
     "end_time": "2025-03-02T12:27:19.415986Z",
     "start_time": "2025-03-02T12:27:19.401566Z"
    }
   },
   "id": "2e6157d53f01223f",
   "outputs": [
    {
     "name": "stderr",
     "output_type": "stream",
     "text": [
      "<>:3: SyntaxWarning: invalid escape sequence '\\e'\n",
      "<>:3: SyntaxWarning: invalid escape sequence '\\e'\n",
      "C:\\Users\\lilit\\AppData\\Local\\Temp\\ipykernel_12412\\907484656.py:3: SyntaxWarning: invalid escape sequence '\\e'\n",
      "  plt.plot(counts, label=\"$\\epsilon = %.02f$\" % epsilon)\n"
     ]
    },
    {
     "data": {
      "text/plain": [
       "<matplotlib.legend.Legend at 0x210ff81c190>"
      ]
     },
     "execution_count": 10,
     "metadata": {},
     "output_type": "execute_result"
    }
   ],
   "execution_count": 10
  },
  {
   "cell_type": "code",
   "source": [
    "plt.savefig(\"../generated_images/figure_2_2.png\")\n",
    "plt.close()"
   ],
   "metadata": {
    "collapsed": false,
    "ExecuteTime": {
     "end_time": "2025-03-02T12:27:22.727282Z",
     "start_time": "2025-03-02T12:27:22.450426Z"
    }
   },
   "id": "ca9dfed4b31f4579",
   "outputs": [],
   "execution_count": 11
  },
  {
   "cell_type": "markdown",
   "source": [
    "## 3. Optimistic Initial Values VS Realistic Initial Values"
   ],
   "metadata": {
    "collapsed": false
   },
   "id": "a0c5945f58dd0dee"
  },
  {
   "cell_type": "code",
   "source": [
    "# Create a list of 2 bandits where:\n",
    "# 1. 1st bandit: ε = 0, 𝑄_1(𝑎) = 5, 𝛼 = 0.1,\n",
    "# 2. 2nd bandit: ε = 0.1, 𝑄_1(𝑎) = 0, 𝛼 = 0.1\n",
    "bandits=[Bandit(epsilon=0, initial_action_value_estimates=5,step_size=0.1),\n",
    "         Bandit(epsilon=0.1, initial_action_value_estimates=5,step_size=0.1)]"
   ],
   "metadata": {
    "collapsed": false,
    "is_executing": true,
    "ExecuteTime": {
     "end_time": "2025-03-03T07:46:36.320528Z",
     "start_time": "2025-03-03T07:46:36.315015Z"
    }
   },
   "id": "50d647979ced258a",
   "outputs": [],
   "execution_count": 3
  },
  {
   "cell_type": "code",
   "source": [
    "# Define number of runs\n",
    "runs=2000\n",
    "\n",
    "# Define number of times\n",
    "times=1000\n",
    "\n",
    "# Simulate optimal action counts\n",
    "optimal_action_counts, _ = simulate(runs, times, bandits)"
   ],
   "metadata": {
    "collapsed": false,
    "ExecuteTime": {
     "end_time": "2025-03-03T07:48:03.585324Z",
     "start_time": "2025-03-03T07:46:38.290261Z"
    }
   },
   "id": "3116e78a4c90c435",
   "outputs": [
    {
     "name": "stderr",
     "output_type": "stream",
     "text": [
      "100%|██████████| 2000/2000 [00:44<00:00, 44.72it/s]\n",
      "100%|██████████| 2000/2000 [00:40<00:00, 49.34it/s]\n"
     ]
    }
   ],
   "execution_count": 4
  },
  {
   "cell_type": "code",
   "source": [
    "# Plotting\n",
    "plt.plot(optimal_action_counts[0], label=\"$\\epsilon=0, Q1=5$\")\n",
    "plt.plot(optimal_action_counts[1], label=\"$\\epsilon=0.1, Q1=0$\")\n",
    "plt.title(\"Figure 2.3\")\n",
    "plt.xlabel(\"Steps\")\n",
    "plt.ylabel(\"% Optimal action\")\n",
    "plt.legend()\n",
    "\n",
    "plt.savefig(\"../generated_images/figure_2_3.png\")\n",
    "plt.close()"
   ],
   "metadata": {
    "collapsed": false,
    "ExecuteTime": {
     "end_time": "2025-03-03T08:10:02.683978Z",
     "start_time": "2025-03-03T08:10:02.533082Z"
    }
   },
   "id": "d1ae633f8632eed5",
   "outputs": [
    {
     "name": "stderr",
     "output_type": "stream",
     "text": [
      "<>:2: SyntaxWarning: invalid escape sequence '\\e'\n",
      "<>:3: SyntaxWarning: invalid escape sequence '\\e'\n",
      "<>:2: SyntaxWarning: invalid escape sequence '\\e'\n",
      "<>:3: SyntaxWarning: invalid escape sequence '\\e'\n",
      "C:\\Users\\lilit\\AppData\\Local\\Temp\\ipykernel_23728\\1752312754.py:2: SyntaxWarning: invalid escape sequence '\\e'\n",
      "  plt.plot(optimal_action_counts[0], label=\"$\\epsilon=0, Q1=5$\")\n",
      "C:\\Users\\lilit\\AppData\\Local\\Temp\\ipykernel_23728\\1752312754.py:3: SyntaxWarning: invalid escape sequence '\\e'\n",
      "  plt.plot(optimal_action_counts[1], label=\"$\\epsilon=0.1, Q1=0$\")\n"
     ]
    }
   ],
   "execution_count": 6
  },
  {
   "cell_type": "markdown",
   "source": [
    "## 4. Upper-Confidence-Bound (UCB) Action Selection"
   ],
   "metadata": {
    "collapsed": false
   },
   "id": "7473708c239f1d0"
  },
  {
   "cell_type": "code",
   "source": [
    "# Create a list of 2 bandits where:\n",
    "# 1. 1st bandit: ε = 0, 𝑐 = 2, uses sample-average method,\n",
    "# 2. 2nd bandit: ε = 0.1, uses sample-average method\n",
    "bandits=[\n",
    "    Bandit(epsilon=0,confidence_level=2,use_sample_averages=True),\n",
    "    Bandit(epsilon=0.1,use_sample_averages=True)\n",
    "]\n"
   ],
   "metadata": {
    "collapsed": false,
    "ExecuteTime": {
     "end_time": "2025-03-10T09:40:56.633239Z",
     "start_time": "2025-03-10T09:40:56.627212Z"
    }
   },
   "id": "1993531b4fe5feb2",
   "outputs": [],
   "execution_count": 3
  },
  {
   "cell_type": "code",
   "source": [
    "# Define number of runs\n",
    "runs=2000\n",
    "\n",
    "# Define number of times\n",
    "times=1000\n",
    "\n",
    "# Simulate average rewards\n",
    "_, average_rewards = simulate(runs, times, bandits)"
   ],
   "metadata": {
    "collapsed": false,
    "ExecuteTime": {
     "end_time": "2025-03-10T09:42:41.530645Z",
     "start_time": "2025-03-10T09:40:58.983547Z"
    }
   },
   "id": "6e1fed28f6812c2e",
   "outputs": [
    {
     "name": "stderr",
     "output_type": "stream",
     "text": [
      "100%|██████████| 2000/2000 [01:01<00:00, 32.58it/s]\n",
      "100%|██████████| 2000/2000 [00:41<00:00, 48.63it/s]\n"
     ]
    }
   ],
   "execution_count": 4
  },
  {
   "cell_type": "code",
   "source": [
    "# Plotting\n",
    "plt.plot(average_rewards[0], label=r\"UCB $c=2$\")\n",
    "plt.plot(average_rewards[1], label=r\"epsilon-greedy $\\epsilon=0.1$\")\n",
    "\n",
    "plt.title(\"Figure 2.4\")\n",
    "plt.xlabel(\"Steps\")\n",
    "plt.ylabel(\"Average reward\")\n",
    "plt.legend()\n",
    "plt.savefig(\"../generated_images/figure_2_4.png\")\n",
    "plt.close()"
   ],
   "metadata": {
    "collapsed": false,
    "ExecuteTime": {
     "end_time": "2025-03-10T09:44:07.076483Z",
     "start_time": "2025-03-10T09:44:06.919468Z"
    }
   },
   "id": "9d4db60f0153c024",
   "outputs": [],
   "execution_count": 6
  },
  {
   "cell_type": "markdown",
   "source": [
    "## 5. Gradient Bandit Algorithms (GBA)"
   ],
   "metadata": {
    "collapsed": false
   },
   "id": "b5cb31b7d224bbba"
  },
  {
   "cell_type": "code",
   "source": [
    "# Create a list of 4 bandits where:\n",
    "# 1. 1st bandit: uses GBA, 𝛼 = 0.1, uses average reward as baseline for GBA, expects true reward of 4,\n",
    "# 2. 2nd bandit: uses GBA, 𝛼 = 0.1, doesn't use average reward as baseline for GBA, expects true reward of 4,\n",
    "# 3. 3rd bandit: uses GBA, 𝛼 = 0.4, uses average reward as baseline for GBA, expects true reward of 4,\n",
    "# 4. 4th bandit: uses GBA, 𝛼 = 0.4, doesn't use average reward as baseline for GBA, expects true reward of 4\n",
    "bandits=[\n",
    "    Bandit(use_gradient=True,step_size=0.1,use_gradient_baseline=True,true_expected_reward=4),\n",
    "    Bandit(use_gradient=True,step_size=0.1,use_gradient_baseline=False,true_expected_reward=4),\n",
    "    Bandit(use_gradient=True,step_size=0.4,use_gradient_baseline=True,true_expected_reward=4),\n",
    "    Bandit(use_gradient=True,step_size=0.4,use_gradient_baseline=False,true_expected_reward=4)]"
   ],
   "metadata": {
    "collapsed": false,
    "ExecuteTime": {
     "end_time": "2025-03-10T09:58:25.827171Z",
     "start_time": "2025-03-10T09:58:25.819385Z"
    }
   },
   "id": "1453e8fb0e6a32f6",
   "outputs": [],
   "execution_count": 7
  },
  {
   "cell_type": "code",
   "source": [
    "# Define number of runs\n",
    "runs=2000\n",
    "\n",
    "# Define number of times\n",
    "times=1000\n",
    "\n",
    "# Simulate optimal action counts\\\n",
    "optimal_action_counts, _=simulate(runs, times, bandits)"
   ],
   "metadata": {
    "collapsed": false,
    "ExecuteTime": {
     "end_time": "2025-03-10T10:03:08.821756Z",
     "start_time": "2025-03-10T09:58:28.185481Z"
    }
   },
   "id": "79a2acb7e523f0a8",
   "outputs": [
    {
     "name": "stderr",
     "output_type": "stream",
     "text": [
      "100%|██████████| 2000/2000 [01:11<00:00, 28.10it/s]\n",
      "100%|██████████| 2000/2000 [01:08<00:00, 29.05it/s]\n",
      "100%|██████████| 2000/2000 [01:09<00:00, 28.70it/s]\n",
      "100%|██████████| 2000/2000 [01:10<00:00, 28.21it/s]\n"
     ]
    }
   ],
   "execution_count": 8
  },
  {
   "cell_type": "code",
   "source": [
    "# Labels\n",
    "labels=[\n",
    "    r\"$\\alpha=0.1$ with baseline\",\n",
    "    r\"$\\alpha=0.1$ without baseline\",\n",
    "    r\"$\\alpha=0.4$ with baseline\",\n",
    "    r\"$\\alpha=0.4$ without baseline\",\n",
    "\n",
    "]"
   ],
   "metadata": {
    "collapsed": false,
    "ExecuteTime": {
     "end_time": "2025-03-10T10:04:15.443113Z",
     "start_time": "2025-03-10T10:04:15.438382Z"
    }
   },
   "id": "67282242fae58cb9",
   "outputs": [],
   "execution_count": 9
  },
  {
   "cell_type": "code",
   "source": [
    "# Plotting\n",
    "for i in range(len(bandits)):\n",
    "    plt.plot(optimal_action_counts[i], label=labels[i])\n",
    "\n",
    "plt.title(\"Figure 2.5\")\n",
    "plt.xlabel(\"Steps\")\n",
    "plt.ylabel(\"% Optimal action\")\n",
    "plt.legend()\n",
    "\n",
    "plt.savefig(\"../generated_images/figure_2_5.png\")\n",
    "plt.close()"
   ],
   "metadata": {
    "collapsed": false,
    "ExecuteTime": {
     "end_time": "2025-03-10T10:04:18.390120Z",
     "start_time": "2025-03-10T10:04:18.201492Z"
    }
   },
   "id": "2281e1a4dc8f1b9c",
   "outputs": [],
   "execution_count": 10
  },
  {
   "cell_type": "code",
   "source": [],
   "metadata": {
    "collapsed": false
   },
   "id": "974417449ca9770c",
   "outputs": [],
   "execution_count": null
  }
 ],
 "metadata": {
  "kernelspec": {
   "display_name": "Python 3",
   "language": "python",
   "name": "python3"
  },
  "language_info": {
   "codemirror_mode": {
    "name": "ipython",
    "version": 2
   },
   "file_extension": ".py",
   "mimetype": "text/x-python",
   "name": "python",
   "nbconvert_exporter": "python",
   "pygments_lexer": "ipython2",
   "version": "2.7.6"
  }
 },
 "nbformat": 4,
 "nbformat_minor": 5
}
